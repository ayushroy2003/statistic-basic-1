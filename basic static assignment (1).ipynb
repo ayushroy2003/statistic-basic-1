{
 "cells": [
  {
   "cell_type": "markdown",
   "id": "9e917832-1b1e-4757-82cd-4164d1d378a4",
   "metadata": {},
   "source": [
    "What is Statistics?\n",
    "\n",
    "Ans - \n",
    "\n",
    "Statistics is the science of collecting , organizing and analayzing the data it is used t deal with raw data and iterpet information from it."
   ]
  },
  {
   "cell_type": "markdown",
   "id": "60812651-3117-434e-9553-8c21b2d4ebf7",
   "metadata": {},
   "source": [
    "Q2. Define the different types of statistics and give an example of when each type might be used.\n",
    "\n",
    "Ans - There are two types of statistics (1). Descriptive statistics (2).Inferntial Statistics \n",
    "\n",
    "(1). Descriptive Statistics - It involves summarizing and describing data through measures such as mean , median , mode  ,range , standard deviation , variance .These statistics helps us to understand the characterstics of data such as its central of tendency variability  and distiribution \n",
    "\n",
    "Example - Age of student  in a classroom \n",
    "Classroom = [14,14,13,15,15,16,16,13,14,17]\n",
    "\n",
    "Avg age of student  = sum of value divded by number of values\n",
    "median age  - 21.5\n",
    "\n",
    "(2). Inferential Statistics - It involves making prediction or drawing conclusion about a population based on a sample of data .This type of statistics uses probability theory to estimate likelihood that a particular conclusion is true \n",
    "\n",
    "Example - A drug test on a sample of population of different age groups in this method inferential statistics works \n"
   ]
  },
  {
   "cell_type": "markdown",
   "id": "7b348c29-3b42-49fd-aac6-9dde3cad452c",
   "metadata": {},
   "source": [
    "Q3. What are the different types of data and how do they differ from each other? Provide an example of\n",
    "each type of data.\n",
    "\n",
    "Ans- \n",
    "There are two type data\n",
    "\n",
    "1. Quantitative Data : it consist of numerical measurement \n",
    "(a). Discrete Data\n",
    "(b). Continous Data\n",
    "\n",
    "2.Qualitative Data : it consist of categorical data and it is non numerical  data \n",
    "(a) Nominal Data\n",
    "(b) ordinal Data\n",
    "\n",
    "| TYPES OF DATA | DEFINATION | EXAMPLE |\n",
    "| ------------- | ---------- | ------- |\n",
    "| Quantitative / Discrete | Numerical values that can only take on specific values, typically integers. | Number of children in a family, number of cars in a household. |\n",
    "| Qunatitative / Continous | Numerical values that can take on any value within a range. | Length, Temperature, Humidity, Time. |\n",
    "| Qualitative / Nominal | Descriptive or categorical information that cannot be ranked or ordered. | Gender, Car Manufacturer, Cuisine. |\n",
    "| Qualitative / Ordinal | Descriptive or categorical information that can be ranked or ordered, but the intervals between categories are not necessarily equal. | Education level, socioeconomic status,Clothing Sizes(S,M,L,XL). |"
   ]
  },
  {
   "cell_type": "markdown",
   "id": "306fc93c-6d21-4445-ab00-a92550be1f0c",
   "metadata": {},
   "source": [
    "Q4. Categorise the following datasets with respect to quantitative and qualitative data types:\n",
    "\n",
    "(i) Grading in exam: A+, A, B+, B, C+, C, D, E\n",
    "\n",
    "(ii) Colour of mangoes: yellow, green, orange, red\n",
    "\n",
    "(iii) Height data of a class: [178.9, 179, 179.5, 176, 177.2, 178.3, 175.8,...]\n",
    "\n",
    "(iv) Number of mangoes exported by a farm: [500, 600, 478, 672, …]\n",
    "\n",
    "Ans\n",
    "\n",
    "\n",
    "\n",
    "\n",
    "(i) Grading in exam: A+, A, B+, B, C+, C, D, E\n",
    "\n",
    "this  dataset is qualitative ordinal  data types \n",
    "\n",
    "\n",
    "\n",
    "(ii) Colour of mangoes: yellow, green, orange, red\n",
    "\n",
    "this dataset is qulitative nominal datatypes\n",
    "\n",
    "\n",
    "(iii) Height data of a class: [178.9, 179, 179.5, 176, 177.2, 178.3, 175.8,...]\n",
    "\n",
    "this dataset is quantitative continuous datatype\n",
    "\n",
    "\n",
    "(iv) Number of mangoes exported by a farm: [500, 600, 478, 672, …]\n",
    "\n",
    "this dataset is quantitative continuous datatype"
   ]
  },
  {
   "cell_type": "markdown",
   "id": "5f818f05-0253-4f86-a96d-a570e0b20b3c",
   "metadata": {},
   "source": [
    "Q5. Explain the concept of levels of measurement and give an example of a variable for each level.\n",
    "\n",
    "Ans -\n",
    "| level of measurement |  Defination | Example of variable |\n",
    "|----------------------- | -----------| ------------------ |\n",
    "| Nominal | Variable that can be categorized but not ranked | colour(blue ,black,yellow) |\n",
    "|ordinal | variable thak can be categorized and ranked | costumer feedback ( good , better , best) |\n",
    "| interval | variable with equal interval between values but no true zero point | Temperature (0 degree celsius dosen't mean no temperature) |\n",
    "| ratio | variable with equal intervals between values and a true zero  point | height in centimeter (0cm meand no height)"
   ]
  },
  {
   "cell_type": "markdown",
   "id": "5b1452da-31ba-496b-897c-d4a0f15c58b5",
   "metadata": {},
   "source": [
    "Q6. Why is it important to understand the level of measurement when analyzing data? Provide an\n",
    "example to illustrate your answer.\n",
    "\n",
    "Ans - \n",
    " understanding the level of measurement is important because it helps us to choose  the appropriate statistical  anaalysis methods and interpret the results accuretly \n",
    "\n",
    "Different level  of measurement have different leval of measurement and properties and limitation so knowing the leval of measurement helps ust to derermine the appropriate statistical tests and summarize date effectively and draw meaniful conclusion and insghits \n",
    "it ensure that we use the right tools to analyze and interpet  data correctly \n",
    "\n",
    "\n",
    "\n",
    "Let's consider an example where understanding the level of measurement is crucial:\n",
    "\n",
    "Suppose you have data on students' grades in a course, where the grades are represented as categories: A, B, C, D, and F.\n",
    "\n",
    "If you treat these grades as nominal data, you can calculate frequencies and percentages, but calculating the mean or conducting a t-test wouldn't make sense.\n",
    "\n",
    "If you treat them as ordinal data, you acknowledge the order of the grades, but the differences between grades may not be consistent, so calculating the mean might be misleading.\n",
    "\n",
    "If you treat them as interval or ratio data, you might incorrectly imply that the difference between an A and a B is the same as the difference between a C and a D, which may not be the case.\n",
    "\n",
    "Choosing the appropriate level of measurement ensures that the analysis aligns with the nature of the data and provides valid, meaningful insights."
   ]
  },
  {
   "cell_type": "markdown",
   "id": "09736f13-052d-4cf7-805a-31c628561129",
   "metadata": {},
   "source": [
    "Q7. How nominal data type is different from ordinal data type\n",
    "\n",
    "Ans - \n",
    "| Nominal Datatype | ordinal datatype | \n",
    "|-----------------|------------------|\n",
    "|nominal data type has no rank order | ordinal datatype has rank|\n",
    "|In nominal data, categories are used to label or classify items into distinct groups. These categories do not have an inherent order or ranking. Nominal data only indicates differences in kind, not degree.|In ordinal data, categories have a meaningful order or ranking. While the categories represent different levels, the intervals between them are not necessarily consistent or measurable.|\n",
    "|nominal data can be represented by labels or names | ordinal data can be represented by number or labels |\n",
    "|Analyses for nominal data involve frequency counts, percentages, and mode. Chi-square tests can be used for assessing relationships between nominal variables.|Analyses for ordinal data include the use of median, mode, and non-parametric tests like the Wilcoxon signed-rank test or the Mann-Whitney U test. These tests are appropriate for data with an ordered structure.|"
   ]
  },
  {
   "cell_type": "markdown",
   "id": "1eb1fdea-ed74-4cfd-88ba-c4d30f20bf86",
   "metadata": {},
   "source": [
    "Q8. Which type of plot can be used to display data in terms of range?\n",
    "\n",
    "Ans - histogram is used to display data in terms of range \n"
   ]
  },
  {
   "cell_type": "markdown",
   "id": "836ee35a-0ef1-43ee-a704-a38ecb4179f0",
   "metadata": {},
   "source": [
    "Q9. Describe the difference between descriptive and inferential statistics. Give an example of each\n",
    "type of statistics and explain how they are used.\n",
    "\n",
    "Ans - \n",
    "| TYPES  OF STATISTICS | HOW THEY USED | EXAMPLE | \n",
    "| -------------------- | ------------- | ------- |\n",
    "| Descriptive Statistics | Summarizes and describes the basic features of a dataset. | Mean, Median, Mode, Standard Deviation. |\n",
    "| Inferential Statistics | Used to make inferences or draw conclusions about a larger population based on a smaller sample of data. | Hypothesis Testing, Confidence Intervals, Regression Analysis, ANOVA. |"
   ]
  },
  {
   "cell_type": "markdown",
   "id": "1ae2c62b-4bfc-4e02-a8bd-f53321c9a940",
   "metadata": {},
   "source": [
    "Q10. What are some common measures of central tendency and variability used in statistics? Explain\n",
    "how each measure can be used to describe a dataset\n",
    "\n",
    "Ans - \n",
    "| MEASURES | DEFINATION | MATHEMATICAL FORMULA |\n",
    "| -------- | ---------- | -------------------- |\n",
    "| **Central Tendency** |\n",
    "| Mean | Arithmetic average of a set of values. | $$\\bar{x} = \\frac{\\sum_{i=1}^{n} x_i}{n}$$ |\n",
    "| Median | Middle value in a dataset when it is ordered from smallest to largest. | If ( n ) is odd: $$\\tilde{x} = x_{\\frac{n+1}{2}}$$  If ( n ) is even: $$\\tilde{x} = \\frac{x_{\\frac{n}{2}} + x_{\\frac{n}{2} + 1}}{2}$$ |\n",
    "| Mode | Most common value in a dataset. |\n",
    "| **Variability** |\n",
    "| Variance | Average of the squared differences from the mean. | $$\\sigma^2 = \\frac{1}{n} \\sum_{i=1}^{n} (x_i - \\bar{x})^2$$ |\n",
    "| Standard Deviation | Square root of the variance. | $$\\sigma = \\sqrt{\\frac{1}{n} \\sum_{i=1}^{n} (x_i - \\bar{x})^2}$$ |"
   ]
  },
  {
   "cell_type": "code",
   "execution_count": null,
   "id": "1df002c8-cef4-4d79-9f23-5194769ba50f",
   "metadata": {},
   "outputs": [],
   "source": []
  }
 ],
 "metadata": {
  "kernelspec": {
   "display_name": "Python 3 (ipykernel)",
   "language": "python",
   "name": "python3"
  },
  "language_info": {
   "codemirror_mode": {
    "name": "ipython",
    "version": 3
   },
   "file_extension": ".py",
   "mimetype": "text/x-python",
   "name": "python",
   "nbconvert_exporter": "python",
   "pygments_lexer": "ipython3",
   "version": "3.10.8"
  }
 },
 "nbformat": 4,
 "nbformat_minor": 5
}
